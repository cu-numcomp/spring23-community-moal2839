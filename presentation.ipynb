{
 "cells": [
  {
   "attachments": {},
   "cell_type": "markdown",
   "metadata": {},
   "source": [
    "### Facemap - neural activity prediction software\n",
    "\n",
    "Hi everyone my name is Askar and I'm proposing to investigate the software facemap (https://github.com/MouseLand/facemap).\n",
    "Facemap is a framework for predicting neural activity from mouse orofacial movements. It includes a pose estimation model for tracking distinct keypoints on the mouse face, a neural network model for predicting neural activity using the pose estimates, and can also compute the singular value decomposition (SVD) of behavioral videos. "
   ]
  },
  {
   "attachments": {},
   "cell_type": "markdown",
   "metadata": {},
   "source": [
    "### The Key Problem that it solves\n",
    "\n",
    "Facemap is designed to solve several problems related to neural activity prediction and behavioral video analysis. By tracking distinct keypoints on a mouse's face, it can predict neural activity using a neural network model. It can also compute the SVD of behavioral videos, which can be used to analyze and understand complex behaviors in mice."
   ]
  },
  {
   "attachments": {},
   "cell_type": "markdown",
   "metadata": {},
   "source": [
    "This software is domain specific and is not ment to be a general purpose software. It is designed for neuroscientists and researchers working with mice that want to study neural activity and behavior and would like to be able to predict and model neural activity."
   ]
  },
  {
   "attachments": {},
   "cell_type": "markdown",
   "metadata": {},
   "source": [
    "### Stakeholders\n",
    "\n",
    "The stakeholders in facemap are the developers, researchers, and neuroscientists who use the software.\n",
    "This software is meant to focus on accuracy and cost. Which is how well it is able to predict neural activity as well\n",
    "as cost which in this case could be the performance and how much time it takes to compute SVD on behavioral videos of mice."
   ]
  },
  {
   "attachments": {},
   "cell_type": "markdown",
   "metadata": {},
   "source": [
    "### Question about the Software && Experiment Idea\n",
    "\n",
    "A question I have about facemap is whether the pose estimation model is robust to variations in lighting and background. An interesting experiment to test this hypothesis would be to collect videos of mice in different lighting conditions and with different backgrounds. The videos could then be processed using facemap's pose estimation model, and the accuracy of the pose estimates could be compared between the different lighting and background conditions. The results could be presented on a plot with the x-axis representing the different lighting and background conditions and the y-axis representing the accuracy of the pose estimates. This would allow stakeholders to understand whether the pose estimation model is robust to variations in lighting and background, which is important for ensuring accurate neural activity predictions."
   ]
  }
 ],
 "metadata": {
  "kernelspec": {
   "display_name": "Python 3",
   "language": "python",
   "name": "python3"
  },
  "language_info": {
   "name": "python",
   "version": "3.9.6 (default, Sep 26 2022, 11:37:49) \n[Clang 14.0.0 (clang-1400.0.29.202)]"
  },
  "orig_nbformat": 4,
  "vscode": {
   "interpreter": {
    "hash": "31f2aee4e71d21fbe5cf8b01ff0e069b9275f58929596ceb00d14d90e3e16cd6"
   }
  }
 },
 "nbformat": 4,
 "nbformat_minor": 2
}
